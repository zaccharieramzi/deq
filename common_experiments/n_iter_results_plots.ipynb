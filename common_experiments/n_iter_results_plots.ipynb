{
 "cells": [
  {
   "cell_type": "code",
   "execution_count": null,
   "metadata": {},
   "outputs": [],
   "source": [
    "import pandas as pd\n",
    "import numpy as np\n",
    "import matplotlib.pyplot as plt"
   ]
  },
  {
   "cell_type": "code",
   "execution_count": null,
   "metadata": {},
   "outputs": [],
   "source": [
    "plt.style.use(['science'])\n",
    "plt.rcParams['xtick.labelsize'] = 6\n",
    "plt.rcParams['ytick.labelsize'] = 6\n",
    "plt.rcParams['axes.labelsize'] = 8\n",
    "plt.rcParams['axes.titlesize'] = 10\n",
    "plt.rcParams['lines.linewidth'] = 2.2"
   ]
  },
  {
   "cell_type": "code",
   "execution_count": null,
   "metadata": {},
   "outputs": [],
   "source": [
    "df_results_imagenet = pd.read_csv('../imagenet_n_iter_results_w_cvg.csv')\n",
    "df_results_imagenet_train = pd.read_csv('../imagenet_n_iter_results_train.csv')\n",
    "df_results_imagenet_train_loss = pd.read_csv('../imagenet_n_iter_results_train_loss.csv')\n",
    "df_results_imagenet_loss = pd.read_csv('../imagenet_n_iter_results_loss.csv')\n",
    "df_results_wikitext = pd.read_csv('../transformer_results_w_cvg.csv')\n",
    "df_results_wikitext_anderson = pd.read_csv('../transformer_results_anderson.csv')\n",
    "df_results_cityscapes = pd.read_csv('../cityscapes_n_iter_results_w_cvg.csv')\n",
    "df_results_optical_flow = pd.read_csv('../optical_flow_results_w_cvg.csv')"
   ]
  },
  {
   "cell_type": "code",
   "execution_count": null,
   "metadata": {},
   "outputs": [],
   "source": [
    "df_results_imagenet.query('f_thres_val == 26')['top1'].mean()"
   ]
  },
  {
   "cell_type": "code",
   "execution_count": null,
   "metadata": {},
   "outputs": [],
   "source": [
    "df_results_imagenet_train.query('f_thres_val == 26')['top1'].mean()"
   ]
  },
  {
   "cell_type": "code",
   "execution_count": null,
   "metadata": {},
   "outputs": [],
   "source": [
    "df_results_imagenet_train_loss.query('f_thres_val == 26')['top1'].mean()"
   ]
  },
  {
   "cell_type": "code",
   "execution_count": null,
   "metadata": {},
   "outputs": [],
   "source": [
    "df_results_imagenet_loss.query('f_thres_val == 26')['top1'].mean()"
   ]
  },
  {
   "cell_type": "code",
   "execution_count": null,
   "metadata": {},
   "outputs": [],
   "source": [
    "# imagenet plot\n",
    "# we want to plot the top 1 accuracy vs the number of iterations\n",
    "# and highlight that the model was trained with 26 iterations with a black dashed vertical line\n",
    "# the top 1 accuracy of the model with 26 iterations should be subtracted from the other accuracies\n",
    "def plot_imagenet_results(ax, train=False, loss=False):\n",
    "    if train:\n",
    "        if loss:\n",
    "            df = df_results_imagenet_train_loss\n",
    "        else:\n",
    "            df = df_results_imagenet_train\n",
    "    else:\n",
    "        if loss:\n",
    "            df = df_results_imagenet_loss\n",
    "        else:\n",
    "            df = df_results_imagenet\n",
    "    accuracies = df['top1'].values\n",
    "    n_iters = df['f_thres_val'].values\n",
    "    n_iters = np.array([int(n) for n in n_iters])\n",
    "    accuracy_at_26 = accuracies[n_iters == 26]\n",
    "    if loss:\n",
    "        accuracies = accuracies\n",
    "        accuracy_at_26 = accuracy_at_26\n",
    "    else:\n",
    "        accuracies = 100 - accuracies\n",
    "        accuracy_at_26 = 100 - accuracy_at_26\n",
    "    ax.plot(n_iters, accuracies - accuracy_at_26, '-', color='C0')\n",
    "    ax.axvline(x=26, color='k', linestyle='--')\n",
    "    ax.set_yscale('symlog')\n",
    "    ax.axhline(y=0, color='r', linestyle='--')\n",
    "    # ax.axhline(y=accuracy_at_26, color='r', linestyle='--')\n",
    "    ax.set_xlabel(r\"$N + \\Delta N$\")\n",
    "    # ax.set_ylabel(r\"$D(N, \\Delta N)$\")\n",
    "    if loss:\n",
    "        ax.set_ylabel(r\"Loss decrease $\\downarrow$\")\n",
    "    else:\n",
    "        ax.set_ylabel(r\"Performance gap $\\downarrow$\")\n",
    "    ax.yaxis.label.set_color('C0')\n",
    "    ax.tick_params(axis='y', colors='C0')\n",
    "    if loss:\n",
    "        if train:\n",
    "            ax.set_title('ImageNet (Image classification) - Train set')\n",
    "        else:\n",
    "            ax.set_title('ImageNet (Image classification) - Test set')\n",
    "    else:\n",
    "        ax.set_title('ImageNet (Image classification)')\n",
    "    # I also want to add the plot of convergence vs number of iterations\n",
    "    # with an additional y axis on the right that represents cvg\n",
    "    # cvg should be taken from cvg_rel\n",
    "    cvg_rel = df['cvg_rel'].values\n",
    "    ax2 = ax.twinx()\n",
    "    ax2.plot(n_iters, cvg_rel, '-', color='C2', markersize=3, alpha=0.7)\n",
    "    ax2.set_ylabel(r\"Convergence\")\n",
    "    ax2.yaxis.label.set_color('C2')\n",
    "    ax2.tick_params(axis='y', colors='C2')\n",
    "    \n",
    "\n",
    "\n",
    "\n",
    "plot_imagenet_results(plt.figure().add_subplot(111))"
   ]
  },
  {
   "cell_type": "code",
   "execution_count": null,
   "metadata": {},
   "outputs": [],
   "source": [
    "# cityscapes plot\n",
    "def plot_cityscape_results(ax):\n",
    "    mious = df_results_cityscapes['miou'].values\n",
    "    n_iters = df_results_cityscapes['f_thres_val'].values\n",
    "    n_iters = np.array([int(n) for n in n_iters])\n",
    "    miou_at_27 = mious[n_iters == 27]\n",
    "    mious = miou_at_27 - mious\n",
    "    # mious = - mious\n",
    "    ax.plot(n_iters, mious, '-')\n",
    "    ax.axvline(x=27, color='k', linestyle='--')\n",
    "    ax.set_yscale('symlog')\n",
    "    ax.yaxis.set_major_formatter('{x:.2f}')\n",
    "    # ax.axhline(y=-miou_at_27, color='r', linestyle='--')\n",
    "    ax.axhline(y=0, color='r', linestyle='--')\n",
    "    ax.set_xlabel(r\"$N + \\Delta N$\")\n",
    "    # ax.set_ylabel(r\"$D(N, \\Delta N)$\")\n",
    "    ax.set_ylabel(r\"Performance gap $\\downarrow$\")\n",
    "    ax.yaxis.label.set_color('C0')\n",
    "    ax.tick_params(axis='y', colors='C0')\n",
    "    ax.set_title('Cityscapes (Image segmentation)')\n",
    "    # I also want to add the plot of convergence vs number of iterations\n",
    "    # with an additional y axis on the right that represents cvg\n",
    "    # cvg should be taken from cvg_rel\n",
    "    cvg_rel = df_results_cityscapes['cvg_rel'].values\n",
    "    ax2 = ax.twinx()\n",
    "    ax2.plot(n_iters, cvg_rel, '-', color='C2', markersize=3, alpha=0.7)\n",
    "    ax2.set_ylabel(r\"Convergence\")\n",
    "    ax2.yaxis.label.set_color('C2')\n",
    "    ax2.tick_params(axis='y', colors='C2')\n",
    "\n",
    "plot_cityscape_results(plt.figure().add_subplot(111))"
   ]
  },
  {
   "cell_type": "code",
   "execution_count": null,
   "metadata": {},
   "outputs": [],
   "source": [
    "# wikitext plot\n",
    "def plot_wikitext_results(ax):\n",
    "    ppls = df_results_wikitext['val_ppl'].values\n",
    "    n_iters = df_results_wikitext['n_forward'].values\n",
    "    n_iters = np.array([int(n) for n in n_iters])\n",
    "    ppl_at_30 = ppls[n_iters == 30]\n",
    "    ppls = ppls - ppl_at_30\n",
    "    ax.plot(n_iters, ppls, '-')\n",
    "    ax.axvline(x=30, color='k', linestyle='--')\n",
    "    ax.set_yscale('symlog')\n",
    "    # ax.axhline(y=ppl_at_30, color='r', linestyle='--')\n",
    "    ax.axhline(y=0, color='r', linestyle='--')\n",
    "    ax.set_xlabel(r\"$N + \\Delta N$\")\n",
    "    # ax.set_ylabel(r\"$D(N, \\Delta N)$\")\n",
    "    ax.set_ylabel(r\"Performance gap $\\downarrow$\")\n",
    "    ax.yaxis.label.set_color('C0')\n",
    "    ax.tick_params(axis='y', colors='C0')\n",
    "    ax.set_title('Wikitext (Language modeling)')\n",
    "    cvg_rel = df_results_wikitext['val_cvg_rel'].values\n",
    "    ax2 = ax.twinx()\n",
    "    ax2.plot(n_iters, cvg_rel, '-', color='C2', markersize=3, alpha=0.7)\n",
    "    ax2.set_ylabel(r\"Convergence\")\n",
    "    ax2.yaxis.label.set_color('C2')\n",
    "    ax2.tick_params(axis='y', colors='C2')\n",
    "\n",
    "plot_wikitext_results(plt.figure().add_subplot(111))\n",
    "\n",
    "# ppls = df_results_wikitext['val_ppl'].values\n",
    "# ppls_anderson = df_results_wikitext_anderson['val_ppl'].values\n",
    "# n_iters = df_results_wikitext['n_forward'].values\n",
    "# n_iters = np.array([int(n) for n in n_iters])\n",
    "# ppl_at_30 = ppls[n_iters == 30]\n",
    "# ppls = ppls - ppl_at_30\n",
    "# ppls_anderson = ppls_anderson - ppl_at_30\n",
    "# plt.plot(n_iters, ppls, 'o', label='broyden')\n",
    "# plt.plot(n_iters, ppls_anderson, 'o', label='anderson')\n",
    "# plt.axvline(x=30, color='k', linestyle='--')\n",
    "# plt.yscale('symlog')\n",
    "# plt.axhline(y=0, color='r', linestyle='--')\n",
    "# plt.xlabel(r\"$N + \\Delta N$\")\n",
    "# plt.ylabel('perplexity at n iterations - perplexity at 30 iterations')\n",
    "# plt.title('relative error vs number of iterations for wikitext\\n DEQ-Tformer trained w Broyden')\n",
    "# plt.legend()"
   ]
  },
  {
   "cell_type": "code",
   "execution_count": null,
   "metadata": {},
   "outputs": [],
   "source": [
    "# sintel plot\n",
    "# we want to plot the perf vs the number of iterations\n",
    "# and highlight that the model was trained with 36 iterations with a black dashed vertical line\n",
    "# the perf of the model with 36 iterations should be subtracted from the other perfs\n",
    "def plot_sintel_results(ax):\n",
    "    # sort optical flow results by f_thres_val\n",
    "    df_results_optical_flow_ = df_results_optical_flow.sort_values(by=['f_thres_val'])\n",
    "    perfs = df_results_optical_flow_.query(\"dataset == 'sintel' & solver == 'broyden'\")['perf'].values\n",
    "    n_iters = df_results_optical_flow_.query(\"dataset == 'sintel' & solver == 'broyden'\")['f_thres_val'].values\n",
    "    n_iters = np.array([int(n) for n in n_iters])\n",
    "    perf_at_36 = perfs[n_iters == 36]\n",
    "    perfs = perfs - perf_at_36\n",
    "    ax.plot(n_iters, perfs, '-')\n",
    "    ax.axvline(x=36, color='k', linestyle='--')\n",
    "    ax.set_yscale('symlog')\n",
    "    ax.yaxis.set_major_formatter('{x:.2f}')\n",
    "    # ax.axhline(y=perf_at_36, color='r', linestyle='--')\n",
    "    ax.axhline(y=0, color='r', linestyle='--')\n",
    "    ax.set_xlabel(r\"$N + \\Delta N$\")\n",
    "    # ax.set_ylabel(r\"$D(N, \\Delta N)$\")\n",
    "    ax.set_ylabel(r\"Performance gap $\\downarrow$\")\n",
    "    ax.yaxis.label.set_color('C0')\n",
    "    ax.tick_params(axis='y', colors='C0')\n",
    "    ax.set_title('Sintel (Optical flow estimation)')\n",
    "    cvg_rel = df_results_optical_flow_['cvg_rel'].values\n",
    "    ax2 = ax.twinx()\n",
    "    ax2.plot(n_iters, cvg_rel, '-', color='C2', markersize=3, alpha=0.7)\n",
    "    ax2.set_ylabel(r\"Convergence\")\n",
    "    ax2.yaxis.label.set_color('C2')\n",
    "    ax2.tick_params(axis='y', colors='C2')\n",
    "\n",
    "plot_sintel_results(plt.figure().add_subplot(111))"
   ]
  },
  {
   "cell_type": "code",
   "execution_count": null,
   "metadata": {},
   "outputs": [],
   "source": [
    "#General figure\n",
    "# This figure is basically a single figure with all the plots above\n",
    "# It is useful for the paper\n",
    "fig, axs = plt.subplots(2, 2, figsize=(5.5, 2.7), gridspec_kw={'hspace': 0.6, 'wspace': 0.5})\n",
    "plot_imagenet_results(axs[0, 0])\n",
    "plot_cityscape_results(axs[0, 1])\n",
    "plot_wikitext_results(axs[1, 0])\n",
    "plot_sintel_results(axs[1, 1])\n",
    "plt.tight_layout()\n",
    "plt.savefig('relative_error_vs_n_iters.pdf', bbox_inches='tight', pad_inches=0, dpi=300)"
   ]
  },
  {
   "cell_type": "code",
   "execution_count": null,
   "metadata": {},
   "outputs": [],
   "source": [
    "plot_imagenet_results(plt.figure(figsize=(5.5, 2.8)).add_subplot(111))\n",
    "plt.tight_layout()\n",
    "plt.savefig('relative_error_vs_n_iters_imagenet_train.pdf', bbox_inches='tight', pad_inches=0, dpi=300)"
   ]
  },
  {
   "cell_type": "code",
   "execution_count": null,
   "metadata": {},
   "outputs": [],
   "source": [
    "#General figure\n",
    "# This figure is basically a single figure with all the plots above\n",
    "# It is useful for the paper\n",
    "fig, axs = plt.subplots(2, 1, figsize=(5.5, 2.8))\n",
    "plot_imagenet_results(axs[0], train=False, loss=True)\n",
    "plot_imagenet_results(axs[1], train=True, loss=True)\n",
    "plt.tight_layout()\n",
    "plt.savefig('relative_error_vs_n_iters_loss_imagenet.pdf', bbox_inches='tight', pad_inches=0, dpi=300)"
   ]
  },
  {
   "cell_type": "code",
   "execution_count": null,
   "metadata": {},
   "outputs": [],
   "source": []
  }
 ],
 "metadata": {
  "kernelspec": {
   "display_name": "venv",
   "language": "python",
   "name": "python3"
  },
  "language_info": {
   "codemirror_mode": {
    "name": "ipython",
    "version": 3
   },
   "file_extension": ".py",
   "mimetype": "text/x-python",
   "name": "python",
   "nbconvert_exporter": "python",
   "pygments_lexer": "ipython3",
   "version": "3.9.16"
  },
  "orig_nbformat": 4,
  "vscode": {
   "interpreter": {
    "hash": "82728e18894ad7a887dec78b1bf9258c0d3b917fc3f2334bdf2c1f3092d04f20"
   }
  }
 },
 "nbformat": 4,
 "nbformat_minor": 2
}
