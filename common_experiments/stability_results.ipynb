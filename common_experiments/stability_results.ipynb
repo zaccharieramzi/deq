{
 "cells": [
  {
   "cell_type": "code",
   "execution_count": 1,
   "metadata": {},
   "outputs": [],
   "source": [
    "import pandas as pd\n",
    "import numpy as np\n",
    "import matplotlib.pyplot as plt"
   ]
  },
  {
   "cell_type": "code",
   "execution_count": 2,
   "metadata": {},
   "outputs": [],
   "source": [
    "plt.style.use(['science'])\n",
    "plt.rcParams['xtick.labelsize'] = 6\n",
    "plt.rcParams['ytick.labelsize'] = 6\n",
    "plt.rcParams['axes.labelsize'] = 8\n",
    "plt.rcParams['axes.titlesize'] = 10"
   ]
  },
  {
   "cell_type": "code",
   "execution_count": 3,
   "metadata": {},
   "outputs": [],
   "source": [
    "df_results = pd.read_csv('stability_results.csv')\n",
    "df_results = df_results[~ df_results['seed'].isin([2])]"
   ]
  },
  {
   "cell_type": "code",
   "execution_count": 4,
   "metadata": {},
   "outputs": [],
   "source": [
    "# we need to add the method of training to the dataframe\n",
    "# by identifying whether \"unrolled\" or \"ift\" is in the opts field\n",
    "df_results['method'] = df_results['opts'].apply(lambda x: 'unrolled' if 'unrolled' in x else 'ift')\n",
    "# we need to get the f_thres_train field from the opts field\n",
    "# basically except for f_thres_train = 18, the f_thres_train value is at the end of the output dir\n",
    "# in the following fashion stability/${dir}_${f_thres}\n",
    "def get_f_thres_train_from_output_dir(output_dir):\n",
    "    dirs = output_dir.split('/')\n",
    "    splits = dirs[1].split('_')\n",
    "    if len(splits) == 2:\n",
    "        f_thres_train = int(splits[-1])\n",
    "    else:\n",
    "        f_thres_train = 18\n",
    "    return f_thres_train\n",
    "\n",
    "def get_output_dir_from_opts(opts):\n",
    "    # output dir has the following format stability/${dir}_${f_thres}\n",
    "    opts = opts.split(',')\n",
    "    for opt in opts:\n",
    "        if 'stability' in opt:\n",
    "            output_dir = opt\n",
    "            break\n",
    "    return output_dir\n",
    "df_results['f_thres_train'] = df_results['opts'].apply(lambda x: get_f_thres_train_from_output_dir(get_output_dir_from_opts(x)))"
   ]
  },
  {
   "cell_type": "code",
   "execution_count": 5,
   "metadata": {},
   "outputs": [],
   "source": [
    "# first we gather the ift results\n",
    "# we are interested in the mean and the standard deviation of the top1 across all seeds\n",
    "# for each f_thres_val\n",
    "df_ift_raw = df_results[df_results['method'] == 'ift']\n",
    "df_ift = df_ift_raw.groupby(['f_thres_val', 'f_thres_train']).agg({'top1': ['mean', 'std']})\n",
    "df_ift = df_ift.reset_index()\n",
    "df_ift.columns = ['f_thres_val', 'f_thres_train', 'top1_mean', 'top1_std']\n",
    "\n",
    "# now we gather the unrolled results similarly\n",
    "df_unrolled_raw = df_results[df_results['method'] == 'unrolled']\n",
    "df_unrolled = df_unrolled_raw.groupby(['f_thres_val', 'f_thres_train']).agg({'top1': ['mean', 'std']})\n",
    "df_unrolled = df_unrolled.reset_index()\n",
    "df_unrolled.columns = ['f_thres_val', 'f_thres_train', 'top1_mean', 'top1_std']"
   ]
  },
  {
   "cell_type": "code",
   "execution_count": 6,
   "metadata": {},
   "outputs": [
    {
     "data": {
      "text/html": [
       "<div>\n",
       "<style scoped>\n",
       "    .dataframe tbody tr th:only-of-type {\n",
       "        vertical-align: middle;\n",
       "    }\n",
       "\n",
       "    .dataframe tbody tr th {\n",
       "        vertical-align: top;\n",
       "    }\n",
       "\n",
       "    .dataframe thead th {\n",
       "        text-align: right;\n",
       "    }\n",
       "</style>\n",
       "<table border=\"1\" class=\"dataframe\">\n",
       "  <thead>\n",
       "    <tr style=\"text-align: right;\">\n",
       "      <th></th>\n",
       "      <th>seed</th>\n",
       "      <th>top1</th>\n",
       "    </tr>\n",
       "  </thead>\n",
       "  <tbody>\n",
       "    <tr>\n",
       "      <th>992</th>\n",
       "      <td>9</td>\n",
       "      <td>85.389999</td>\n",
       "    </tr>\n",
       "    <tr>\n",
       "      <th>1014</th>\n",
       "      <td>7</td>\n",
       "      <td>83.389999</td>\n",
       "    </tr>\n",
       "    <tr>\n",
       "      <th>1019</th>\n",
       "      <td>0</td>\n",
       "      <td>84.400002</td>\n",
       "    </tr>\n",
       "    <tr>\n",
       "      <th>1021</th>\n",
       "      <td>3</td>\n",
       "      <td>84.579994</td>\n",
       "    </tr>\n",
       "    <tr>\n",
       "      <th>1023</th>\n",
       "      <td>5</td>\n",
       "      <td>84.829994</td>\n",
       "    </tr>\n",
       "    <tr>\n",
       "      <th>1024</th>\n",
       "      <td>6</td>\n",
       "      <td>84.930000</td>\n",
       "    </tr>\n",
       "    <tr>\n",
       "      <th>1030</th>\n",
       "      <td>8</td>\n",
       "      <td>85.970001</td>\n",
       "    </tr>\n",
       "    <tr>\n",
       "      <th>1032</th>\n",
       "      <td>4</td>\n",
       "      <td>84.900002</td>\n",
       "    </tr>\n",
       "    <tr>\n",
       "      <th>1054</th>\n",
       "      <td>1</td>\n",
       "      <td>84.250000</td>\n",
       "    </tr>\n",
       "  </tbody>\n",
       "</table>\n",
       "</div>"
      ],
      "text/plain": [
       "      seed       top1\n",
       "992      9  85.389999\n",
       "1014     7  83.389999\n",
       "1019     0  84.400002\n",
       "1021     3  84.579994\n",
       "1023     5  84.829994\n",
       "1024     6  84.930000\n",
       "1030     8  85.970001\n",
       "1032     4  84.900002\n",
       "1054     1  84.250000"
      ]
     },
     "execution_count": 6,
     "metadata": {},
     "output_type": "execute_result"
    }
   ],
   "source": [
    "df_unrolled_raw.query(\"f_thres_train == 18 & f_thres_val == 18\")[[\"seed\", \"top1\"]]"
   ]
  },
  {
   "cell_type": "code",
   "execution_count": 7,
   "metadata": {},
   "outputs": [
    {
     "data": {
      "text/html": [
       "<div>\n",
       "<style scoped>\n",
       "    .dataframe tbody tr th:only-of-type {\n",
       "        vertical-align: middle;\n",
       "    }\n",
       "\n",
       "    .dataframe tbody tr th {\n",
       "        vertical-align: top;\n",
       "    }\n",
       "\n",
       "    .dataframe thead th {\n",
       "        text-align: right;\n",
       "    }\n",
       "</style>\n",
       "<table border=\"1\" class=\"dataframe\">\n",
       "  <thead>\n",
       "    <tr style=\"text-align: right;\">\n",
       "      <th></th>\n",
       "      <th>f_thres_val</th>\n",
       "      <th>f_thres_train</th>\n",
       "      <th>top1_mean</th>\n",
       "      <th>top1_std</th>\n",
       "    </tr>\n",
       "  </thead>\n",
       "  <tbody>\n",
       "    <tr>\n",
       "      <th>0</th>\n",
       "      <td>3</td>\n",
       "      <td>3</td>\n",
       "      <td>62.502221</td>\n",
       "      <td>6.708203</td>\n",
       "    </tr>\n",
       "    <tr>\n",
       "      <th>4</th>\n",
       "      <td>5</td>\n",
       "      <td>3</td>\n",
       "      <td>62.848886</td>\n",
       "      <td>5.952651</td>\n",
       "    </tr>\n",
       "    <tr>\n",
       "      <th>8</th>\n",
       "      <td>6</td>\n",
       "      <td>3</td>\n",
       "      <td>62.091110</td>\n",
       "      <td>6.923206</td>\n",
       "    </tr>\n",
       "    <tr>\n",
       "      <th>13</th>\n",
       "      <td>9</td>\n",
       "      <td>3</td>\n",
       "      <td>60.841109</td>\n",
       "      <td>8.099276</td>\n",
       "    </tr>\n",
       "    <tr>\n",
       "      <th>17</th>\n",
       "      <td>10</td>\n",
       "      <td>3</td>\n",
       "      <td>61.034443</td>\n",
       "      <td>8.067020</td>\n",
       "    </tr>\n",
       "    <tr>\n",
       "      <th>21</th>\n",
       "      <td>11</td>\n",
       "      <td>3</td>\n",
       "      <td>60.731110</td>\n",
       "      <td>8.158751</td>\n",
       "    </tr>\n",
       "    <tr>\n",
       "      <th>26</th>\n",
       "      <td>15</td>\n",
       "      <td>3</td>\n",
       "      <td>60.439999</td>\n",
       "      <td>8.291367</td>\n",
       "    </tr>\n",
       "    <tr>\n",
       "      <th>30</th>\n",
       "      <td>16</td>\n",
       "      <td>3</td>\n",
       "      <td>60.503332</td>\n",
       "      <td>8.297659</td>\n",
       "    </tr>\n",
       "    <tr>\n",
       "      <th>34</th>\n",
       "      <td>18</td>\n",
       "      <td>3</td>\n",
       "      <td>60.313888</td>\n",
       "      <td>8.471240</td>\n",
       "    </tr>\n",
       "    <tr>\n",
       "      <th>38</th>\n",
       "      <td>20</td>\n",
       "      <td>3</td>\n",
       "      <td>60.288887</td>\n",
       "      <td>8.461565</td>\n",
       "    </tr>\n",
       "    <tr>\n",
       "      <th>42</th>\n",
       "      <td>25</td>\n",
       "      <td>3</td>\n",
       "      <td>60.141666</td>\n",
       "      <td>8.679191</td>\n",
       "    </tr>\n",
       "    <tr>\n",
       "      <th>46</th>\n",
       "      <td>30</td>\n",
       "      <td>3</td>\n",
       "      <td>59.989998</td>\n",
       "      <td>8.909909</td>\n",
       "    </tr>\n",
       "    <tr>\n",
       "      <th>50</th>\n",
       "      <td>35</td>\n",
       "      <td>3</td>\n",
       "      <td>59.718332</td>\n",
       "      <td>9.189796</td>\n",
       "    </tr>\n",
       "  </tbody>\n",
       "</table>\n",
       "</div>"
      ],
      "text/plain": [
       "    f_thres_val  f_thres_train  top1_mean  top1_std\n",
       "0             3              3  62.502221  6.708203\n",
       "4             5              3  62.848886  5.952651\n",
       "8             6              3  62.091110  6.923206\n",
       "13            9              3  60.841109  8.099276\n",
       "17           10              3  61.034443  8.067020\n",
       "21           11              3  60.731110  8.158751\n",
       "26           15              3  60.439999  8.291367\n",
       "30           16              3  60.503332  8.297659\n",
       "34           18              3  60.313888  8.471240\n",
       "38           20              3  60.288887  8.461565\n",
       "42           25              3  60.141666  8.679191\n",
       "46           30              3  59.989998  8.909909\n",
       "50           35              3  59.718332  9.189796"
      ]
     },
     "execution_count": 7,
     "metadata": {},
     "output_type": "execute_result"
    }
   ],
   "source": [
    "df_ift[df_ift[\"f_thres_train\"] == 3]"
   ]
  },
  {
   "cell_type": "code",
   "execution_count": 9,
   "metadata": {},
   "outputs": [
    {
     "data": {
      "image/png": "[encoded data removed]",
      "text/plain": [
       "<Figure size 252x110.88 with 1 Axes>"
      ]
     },
     "metadata": {
      "needs_background": "light"
     },
     "output_type": "display_data"
    }
   ],
   "source": [
    "# we now plot the results as top1 function of f_thres_val (N)\n",
    "# using lines with error bars (the error is the std) and dots\n",
    "# we highlight the number of iterations used for training by drawing a dashed black vertical line at N = 18\n",
    "# plt.figure(figsize=(5*0.7, 2.8*0.7))\n",
    "# plt.tight_layout()\n",
    "# plt.savefig('stability_results.pdf', dpi=300, bbox_inches='tight')\n",
    "\n",
    "def plot_stability_single_n(ax, n=18, no_ift=False):\n",
    "    if not no_ift:\n",
    "        df_ift_ = df_ift[df_ift['f_thres_train'] == n]\n",
    "        ax.errorbar(df_ift_['f_thres_val'], df_ift_['top1_mean'], yerr=df_ift_['top1_std'], label='IFT', marker='o', markersize=3, capsize=2, linewidth=3)\n",
    "    df_unrolled_ = df_unrolled[df_unrolled['f_thres_train'] == n]\n",
    "    ax.errorbar(df_unrolled_['f_thres_val'], df_unrolled_['top1_mean'], yerr=df_unrolled_['top1_std'], label='Unrolled', marker='o', markersize=3, capsize=2, linewidth=3)\n",
    "    ax.axvline(x=n, color='k', linestyle='--')\n",
    "    ax.set_xlabel(r'$N + \\Delta N$')\n",
    "    ax.set_ylabel('Top-1 Accuracy')\n",
    "    ax.legend()\n",
    "\n",
    "plot_stability_single_n(plt.figure(figsize=(5*0.7, 2.2*0.7)).add_subplot(111))\n",
    "plt.tight_layout()\n",
    "plt.savefig('stability_results.pdf', dpi=300, bbox_inches='tight')"
   ]
  },
  {
   "cell_type": "code",
   "execution_count": 32,
   "metadata": {},
   "outputs": [
    {
     "data": {
      "image/png": "[encoded data removed]",
      "text/plain": [
       "<Figure size 252x141.12 with 1 Axes>"
      ]
     },
     "metadata": {
      "needs_background": "light"
     },
     "output_type": "display_data"
    }
   ],
   "source": [
    "def plot_schematic(ax):\n",
    "    df_unrolled_18 = df_unrolled[df_unrolled['f_thres_train'] == 18]\n",
    "    ax.errorbar(df_unrolled_18['f_thres_val'], df_unrolled_18['top1_mean'], yerr=df_unrolled_18['top1_std'], label='Unrolled (N == 18)', marker='o', markersize=3, capsize=2, linewidth=3)\n",
    "    df_unrolled_9 = df_unrolled[df_unrolled['f_thres_train'] == 9]\n",
    "    ax.errorbar(df_unrolled_9['f_thres_val'], df_unrolled_9['top1_mean'], yerr=df_unrolled_9['top1_std'], label='Unrolled (N == 9)', marker='o', markersize=3, capsize=2, linewidth=3)\n",
    "    ax.set_xlabel(r'$N + \\Delta N$')\n",
    "    ax.set_ylabel('Top-1 Accuracy')\n",
    "    ax.legend()\n",
    "\n",
    "plot_schematic(plt.figure(figsize=(5*0.7, 2.8*0.7)).add_subplot(111))"
   ]
  },
  {
   "cell_type": "code",
   "execution_count": 14,
   "metadata": {},
   "outputs": [
    {
     "data": {
      "image/png": "[encoded data removed]",
      "text/plain": [
       "<Figure size 252x141.12 with 1 Axes>"
      ]
     },
     "metadata": {
      "needs_background": "light"
     },
     "output_type": "display_data"
    }
   ],
   "source": [
    "plot_stability_single_n(plt.figure(figsize=(5*0.7, 2.8*0.7)).add_subplot(111), n=9, no_ift=False)"
   ]
  },
  {
   "cell_type": "code",
   "execution_count": null,
   "metadata": {},
   "outputs": [
    {
     "name": "stderr",
     "output_type": "stream",
     "text": [
      "/tmp/ipykernel_557933/1810185810.py:6: SettingWithCopyWarning: \n",
      "A value is trying to be set on a copy of a slice from a DataFrame\n",
      "\n",
      "See the caveats in the documentation: https://pandas.pydata.org/pandas-docs/stable/user_guide/indexing.html#returning-a-view-versus-a-copy\n",
      "  df_ift_ref.sort_values(by=\"seed\", inplace=True)\n",
      "/tmp/ipykernel_557933/1810185810.py:8: SettingWithCopyWarning: \n",
      "A value is trying to be set on a copy of a slice from a DataFrame\n",
      "\n",
      "See the caveats in the documentation: https://pandas.pydata.org/pandas-docs/stable/user_guide/indexing.html#returning-a-view-versus-a-copy\n",
      "  df_unrolled_ref.sort_values(by=\"seed\", inplace=True)\n",
      "/tmp/ipykernel_557933/1810185810.py:22: SettingWithCopyWarning: \n",
      "A value is trying to be set on a copy of a slice from a DataFrame\n",
      "\n",
      "See the caveats in the documentation: https://pandas.pydata.org/pandas-docs/stable/user_guide/indexing.html#returning-a-view-versus-a-copy\n",
      "  df_ift_delta.sort_values(by=\"seed\", inplace=True)\n",
      "/tmp/ipykernel_557933/1810185810.py:24: SettingWithCopyWarning: \n",
      "A value is trying to be set on a copy of a slice from a DataFrame\n",
      "\n",
      "See the caveats in the documentation: https://pandas.pydata.org/pandas-docs/stable/user_guide/indexing.html#returning-a-view-versus-a-copy\n",
      "  df_unrolled_delta.sort_values(by=\"seed\", inplace=True)\n",
      "/tmp/ipykernel_557933/1810185810.py:27: SettingWithCopyWarning: \n",
      "A value is trying to be set on a copy of a slice from a DataFrame.\n",
      "Try using .loc[row_indexer,col_indexer] = value instead\n",
      "\n",
      "See the caveats in the documentation: https://pandas.pydata.org/pandas-docs/stable/user_guide/indexing.html#returning-a-view-versus-a-copy\n",
      "  df_ift_delta[\"perf_gap\"] = df_ift_ref_[\"top1\"].values - df_ift_delta[\"top1\"].values\n",
      "/tmp/ipykernel_557933/1810185810.py:28: SettingWithCopyWarning: \n",
      "A value is trying to be set on a copy of a slice from a DataFrame.\n",
      "Try using .loc[row_indexer,col_indexer] = value instead\n",
      "\n",
      "See the caveats in the documentation: https://pandas.pydata.org/pandas-docs/stable/user_guide/indexing.html#returning-a-view-versus-a-copy\n",
      "  df_unrolled_delta[\"perf_gap\"] = df_unrolled_ref_[\"top1\"].values - df_unrolled_delta[\"top1\"].values\n",
      "/tmp/ipykernel_557933/1810185810.py:22: SettingWithCopyWarning: \n",
      "A value is trying to be set on a copy of a slice from a DataFrame\n",
      "\n",
      "See the caveats in the documentation: https://pandas.pydata.org/pandas-docs/stable/user_guide/indexing.html#returning-a-view-versus-a-copy\n",
      "  df_ift_delta.sort_values(by=\"seed\", inplace=True)\n",
      "/tmp/ipykernel_557933/1810185810.py:24: SettingWithCopyWarning: \n",
      "A value is trying to be set on a copy of a slice from a DataFrame\n",
      "\n",
      "See the caveats in the documentation: https://pandas.pydata.org/pandas-docs/stable/user_guide/indexing.html#returning-a-view-versus-a-copy\n",
      "  df_unrolled_delta.sort_values(by=\"seed\", inplace=True)\n",
      "/tmp/ipykernel_557933/1810185810.py:27: SettingWithCopyWarning: \n",
      "A value is trying to be set on a copy of a slice from a DataFrame.\n",
      "Try using .loc[row_indexer,col_indexer] = value instead\n",
      "\n",
      "See the caveats in the documentation: https://pandas.pydata.org/pandas-docs/stable/user_guide/indexing.html#returning-a-view-versus-a-copy\n",
      "  df_ift_delta[\"perf_gap\"] = df_ift_ref_[\"top1\"].values - df_ift_delta[\"top1\"].values\n",
      "/tmp/ipykernel_557933/1810185810.py:28: SettingWithCopyWarning: \n",
      "A value is trying to be set on a copy of a slice from a DataFrame.\n",
      "Try using .loc[row_indexer,col_indexer] = value instead\n",
      "\n",
      "See the caveats in the documentation: https://pandas.pydata.org/pandas-docs/stable/user_guide/indexing.html#returning-a-view-versus-a-copy\n",
      "  df_unrolled_delta[\"perf_gap\"] = df_unrolled_ref_[\"top1\"].values - df_unrolled_delta[\"top1\"].values\n",
      "/tmp/ipykernel_557933/1810185810.py:22: SettingWithCopyWarning: \n",
      "A value is trying to be set on a copy of a slice from a DataFrame\n",
      "\n",
      "See the caveats in the documentation: https://pandas.pydata.org/pandas-docs/stable/user_guide/indexing.html#returning-a-view-versus-a-copy\n",
      "  df_ift_delta.sort_values(by=\"seed\", inplace=True)\n",
      "/tmp/ipykernel_557933/1810185810.py:24: SettingWithCopyWarning: \n",
      "A value is trying to be set on a copy of a slice from a DataFrame\n",
      "\n",
      "See the caveats in the documentation: https://pandas.pydata.org/pandas-docs/stable/user_guide/indexing.html#returning-a-view-versus-a-copy\n",
      "  df_unrolled_delta.sort_values(by=\"seed\", inplace=True)\n",
      "/tmp/ipykernel_557933/1810185810.py:27: SettingWithCopyWarning: \n",
      "A value is trying to be set on a copy of a slice from a DataFrame.\n",
      "Try using .loc[row_indexer,col_indexer] = value instead\n",
      "\n",
      "See the caveats in the documentation: https://pandas.pydata.org/pandas-docs/stable/user_guide/indexing.html#returning-a-view-versus-a-copy\n",
      "  df_ift_delta[\"perf_gap\"] = df_ift_ref_[\"top1\"].values - df_ift_delta[\"top1\"].values\n",
      "/tmp/ipykernel_557933/1810185810.py:28: SettingWithCopyWarning: \n",
      "A value is trying to be set on a copy of a slice from a DataFrame.\n",
      "Try using .loc[row_indexer,col_indexer] = value instead\n",
      "\n",
      "See the caveats in the documentation: https://pandas.pydata.org/pandas-docs/stable/user_guide/indexing.html#returning-a-view-versus-a-copy\n",
      "  df_unrolled_delta[\"perf_gap\"] = df_unrolled_ref_[\"top1\"].values - df_unrolled_delta[\"top1\"].values\n"
     ]
    },
    {
     "data": {
      "image/png": "[encoded data removed]",
      "text/plain": [
       "<Figure size 720x360 with 1 Axes>"
      ]
     },
     "metadata": {
      "needs_background": "light"
     },
     "output_type": "display_data"
    }
   ],
   "source": [
    "def plot_stability_function_of_n(ax):\n",
    "    # delta_ns = [-3, 2, 7]\n",
    "    delta_ns = [7]\n",
    "    linestyles = ['-', '--', ':']\n",
    "    df_ift_ref = df_ift_raw[df_ift_raw['f_thres_train'] == df_ift_raw[\"f_thres_val\"]]\n",
    "    df_ift_ref.sort_values(by=\"seed\", inplace=True)\n",
    "    df_unrolled_ref = df_unrolled_raw[df_unrolled_raw['f_thres_train'] == df_unrolled_raw[\"f_thres_val\"]]\n",
    "    df_unrolled_ref.sort_values(by=\"seed\", inplace=True)\n",
    "    for delta_n, ls in zip(delta_ns, linestyles):\n",
    "        # we are going to plot the top1 difference\n",
    "        # between f_thres_val == f_thres_train + delta_n and f_thres_val == f_thres_train\n",
    "        # function of f_thres_train\n",
    "        # for each n_train (except for f_thres_train == 3 for delta_n = -3)\n",
    "        ift_perf_gaps_mean = []\n",
    "        ift_perf_gaps_std = []\n",
    "        unrolled_perf_gaps_mean = []\n",
    "        unrolled_perf_gaps_std = []\n",
    "        # n_trains = sorted(df_results[\"f_thres_train\"].unique()) if delta_n != -3 else [9, 18]\n",
    "        n_trains = [6, 9, 18]\n",
    "        for n_train in n_trains:\n",
    "            df_ift_delta = df_ift_raw[(df_ift_raw['f_thres_val'] == n_train + delta_n) & (df_ift_raw['f_thres_train'] == n_train)]\n",
    "            df_ift_delta.sort_values(by=\"seed\", inplace=True)\n",
    "            df_unrolled_delta = df_unrolled_raw[(df_unrolled_raw['f_thres_val'] == n_train + delta_n) & (df_unrolled_raw['f_thres_train'] == n_train)]\n",
    "            df_unrolled_delta.sort_values(by=\"seed\", inplace=True)\n",
    "            df_ift_ref_ = df_ift_ref[df_ift_ref['f_thres_train'] == n_train]\n",
    "            df_unrolled_ref_ = df_unrolled_ref[df_unrolled_ref['f_thres_train'] == n_train]\n",
    "            df_ift_delta[\"perf_gap\"] = df_ift_ref_[\"top1\"].values - df_ift_delta[\"top1\"].values\n",
    "            df_unrolled_delta[\"perf_gap\"] = df_unrolled_ref_[\"top1\"].values - df_unrolled_delta[\"top1\"].values\n",
    "            ift_perf_gaps_mean.append(df_ift_delta[\"perf_gap\"].mean())\n",
    "            ift_perf_gaps_std.append(df_ift_delta[\"perf_gap\"].std())\n",
    "            unrolled_perf_gaps_mean.append(df_unrolled_delta[\"perf_gap\"].mean())\n",
    "            unrolled_perf_gaps_std.append(df_unrolled_delta[\"perf_gap\"].std())\n",
    "        ax.errorbar(n_trains, ift_perf_gaps_mean, yerr=ift_perf_gaps_std, label='IFT', marker='o', markersize=1.5, capsize=2, linewidth=1, linestyle=ls, color='C0')\n",
    "        ax.errorbar(n_trains, unrolled_perf_gaps_mean, yerr=unrolled_perf_gaps_std, label='Unrolled', marker='o', markersize=1.5, capsize=2, linewidth=1, linestyle=ls, color='C1')\n",
    "    ax.set_xlabel(r'$N$')\n",
    "    ax.set_ylabel('Stability \\nTop-1 Accuracy Gap')\n",
    "    ax.axhline(y=0, color='r', linestyle='--')\n",
    "            \n",
    "plot_stability_function_of_n(plt.figure(figsize=(10, 5)).add_subplot(111))"
   ]
  },
  {
   "cell_type": "code",
   "execution_count": null,
   "metadata": {},
   "outputs": [],
   "source": []
  }
 ],
 "metadata": {
  "kernelspec": {
   "display_name": "venv",
   "language": "python",
   "name": "python3"
  },
  "language_info": {
   "codemirror_mode": {
    "name": "ipython",
    "version": 3
   },
   "file_extension": ".py",
   "mimetype": "text/x-python",
   "name": "python",
   "nbconvert_exporter": "python",
   "pygments_lexer": "ipython3",
   "version": "3.9.16"
  },
  "orig_nbformat": 4,
  "vscode": {
   "interpreter": {
    "hash": "82728e18894ad7a887dec78b1bf9258c0d3b917fc3f2334bdf2c1f3092d04f20"
   }
  }
 },
 "nbformat": 4,
 "nbformat_minor": 2
}
